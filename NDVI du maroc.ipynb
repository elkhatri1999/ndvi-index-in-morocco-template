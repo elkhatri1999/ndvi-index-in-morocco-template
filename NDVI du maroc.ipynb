{
 "cells": [
  {
   "cell_type": "code",
   "execution_count": 1,
   "metadata": {},
   "outputs": [],
   "source": [
    "import geemap\n",
    "import ee"
   ]
  },
  {
   "cell_type": "code",
   "execution_count": 2,
   "metadata": {},
   "outputs": [
    {
     "data": {
      "application/vnd.jupyter.widget-view+json": {
       "model_id": "2f5b4f6508ab444db286b3011295ba41",
       "version_major": 2,
       "version_minor": 0
      },
      "text/plain": [
       "Map(center=[40, -100], controls=(WidgetControl(options=['position'], widget=HBox(children=(ToggleButton(value=…"
      ]
     },
     "metadata": {},
     "output_type": "display_data"
    }
   ],
   "source": [
    "Map=geemap.Map()\n",
    "Map"
   ]
  },
  {
   "cell_type": "code",
   "execution_count": 3,
   "metadata": {},
   "outputs": [],
   "source": [
    "lmghrib_dzzeb = ee.Geometry.Polygon([[[-10, 30],\n",
    "          [-10, 36],\n",
    "          [-2, 36],\n",
    "          [-2, 30]]])"
   ]
  },
  {
   "cell_type": "code",
   "execution_count": 4,
   "metadata": {},
   "outputs": [],
   "source": [
    "L8=ee.ImageCollection(\"LANDSAT/LC08/C01/T1_RT\")"
   ]
  },
  {
   "cell_type": "code",
   "execution_count": 5,
   "metadata": {},
   "outputs": [],
   "source": [
    "img = ee.Image(L8.median()).clip(lmghrib_dzzeb)\n",
    "viz = {'min':0, 'max':0.4, 'bands':\"B4,B3,B2\"}"
   ]
  },
  {
   "cell_type": "code",
   "execution_count": 13,
   "metadata": {},
   "outputs": [],
   "source": [
    "NDVI = img.expression(\n",
    "    '(NIR - R)/(NIR+R)', {'NIR': img.select('B5'),'R': img.select('B4')}).rename('NDVI')\n",
    "\n",
    "NDVI_Params = {'min': 0.04, 'max': 0.19, 'palette': ['black','blue','green']}"
   ]
  },
  {
   "cell_type": "code",
   "execution_count": 16,
   "metadata": {},
   "outputs": [],
   "source": [
    "legend_keys = ['vegetation modérée', 'vegetation ', 'sols nus ou érodés']\n",
    " #colorS can be defined using either hex code or RGB (0-255, 0-255, 0-255)\n",
    "\n",
    "legend_colors = [(0,255,0), (0,0, 255), (0,0,0)]\n",
    "\n",
    "Map.add_legend(legend_keys=legend_keys, legend_colors=legend_colors, position='bottomleft')"
   ]
  },
  {
   "cell_type": "code",
   "execution_count": 15,
   "metadata": {},
   "outputs": [],
   "source": [
    "Map.addLayer(NDVI,NDVI_Params,'NDVI')\n",
    "Map.addLayer(img,viz,\"Landsat 8\")"
   ]
  }
 ],
 "metadata": {
  "kernelspec": {
   "display_name": "Python 3",
   "language": "python",
   "name": "python3"
  },
  "language_info": {
   "codemirror_mode": {
    "name": "ipython",
    "version": 3
   },
   "file_extension": ".py",
   "mimetype": "text/x-python",
   "name": "python",
   "nbconvert_exporter": "python",
   "pygments_lexer": "ipython3",
   "version": "3.8.3"
  }
 },
 "nbformat": 4,
 "nbformat_minor": 4
}
